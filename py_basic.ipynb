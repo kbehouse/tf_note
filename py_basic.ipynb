{
 "cells": [
  {
   "cell_type": "markdown",
   "metadata": {},
   "source": [
    "# ary[::-1]"
   ]
  },
  {
   "cell_type": "code",
   "execution_count": 3,
   "metadata": {},
   "outputs": [
    {
     "name": "stdout",
     "output_type": "stream",
     "text": [
      "ary_1d[::-1]\n",
      "[4, 3, 2, 1]\n",
      "ary_1d[:-1]\n",
      "[1, 2, 3]\n",
      "ary_1d[1:2]\n",
      "[2]\n",
      "ary_1d[:2]\n",
      "[1, 2]\n",
      "\n",
      "ary_2d[::-1]\n",
      "[[4, 14, 52, 14], [3, 72, 2, 490], [2, 6, 11, 4], [1, 5, 7, 1]]\n",
      "ary_2d[:-1]\n",
      "[[1, 5, 7, 1], [2, 6, 11, 4], [3, 72, 2, 490]]\n"
     ]
    }
   ],
   "source": [
    "ary_1d= [ 1,2,3,4]\n",
    "print('ary_1d[::-1]')\n",
    "print(ary_1d[::-1])\n",
    "\n",
    "print('ary_1d[:-1]')\n",
    "print(ary_1d[:-1])\n",
    "\n",
    "print('ary_1d[1:2]')\n",
    "print(ary_1d[1:2])\n",
    "\n",
    "\n",
    "print('ary_1d[:2]')\n",
    "print(ary_1d[:2])\n",
    "\n",
    "print('')\n",
    "\n",
    "\n",
    "ary_2d= [ [1,5,7,1],\n",
    "        [2,6,11,4],\n",
    "        [3,72,2,490],\n",
    "        [4, 14,52, 14]\n",
    "      ]\n",
    "print('ary_2d[::-1]')\n",
    "print(ary_2d[::-1])\n",
    "\n",
    "print('ary_2d[:-1]')\n",
    "print(ary_2d[:-1])"
   ]
  },
  {
   "cell_type": "markdown",
   "metadata": {},
   "source": [
    "# About Star( \\*, \\**) "
   ]
  },
  {
   "cell_type": "code",
   "execution_count": 7,
   "metadata": {},
   "outputs": [
    {
     "name": "stdout",
     "output_type": "stream",
     "text": [
      "===== * =====\n",
      "foo(1): \n",
      "1\n",
      "foo(1,2,3):\n",
      "1\n",
      "2\n",
      "3\n",
      "===== ** =====\n",
      "bar(name='one', age=27)\n",
      "age 27\n",
      "name one\n",
      "===== foo2(*l) =====\n",
      "foo2(*l)\n",
      "1 2\n"
     ]
    }
   ],
   "source": [
    "\n",
    "print('===== * =====')\n",
    "def foo(*args):\n",
    "    for a in args:\n",
    "        print a\n",
    "        \n",
    "print('foo(1): ' )\n",
    "foo(1)\n",
    "print('foo(1,2,3):' )\n",
    "foo(1,2,3)\n",
    "\n",
    "\n",
    "print('===== ** =====')\n",
    "def bar(**kwargs):\n",
    "    for a in kwargs:\n",
    "        print a, kwargs[a]         \n",
    "\n",
    "print('bar(name=\\'one\\', age=27)' )\n",
    "bar(name='one', age=27)\n",
    "\n",
    "print('===== foo2(*l) =====')\n",
    "def foo2(bar, lee):\n",
    "    print bar, lee\n",
    "    \n",
    "l = [1,2]\n",
    "\n",
    "\n",
    "\n",
    "print('foo2(*l)')\n",
    "foo2(*l)\n"
   ]
  },
  {
   "cell_type": "markdown",
   "metadata": {},
   "source": [
    "# [] * 2"
   ]
  },
  {
   "cell_type": "code",
   "execution_count": 11,
   "metadata": {},
   "outputs": [
    {
     "name": "stdout",
     "output_type": "stream",
     "text": [
      "[2, 4, 6, 2, 4, 6]\n"
     ]
    }
   ],
   "source": [
    "ary = [2,4,6]\n",
    "\n",
    "ary_mul_2 = ary * 2\n",
    "\n",
    "print (ary_mul_2)"
   ]
  },
  {
   "cell_type": "markdown",
   "metadata": {},
   "source": [
    "# [[] for i in range(5)]"
   ]
  },
  {
   "cell_type": "code",
   "execution_count": 2,
   "metadata": {},
   "outputs": [
    {
     "name": "stdout",
     "output_type": "stream",
     "text": [
      "[[], [], [], [], []]\n",
      "[0, 0, 0, 0, 0]\n"
     ]
    }
   ],
   "source": [
    "ary = [[] for i in range(5)]   # clean ary\n",
    "print ary\n",
    "\n",
    "ary_2 = [0 for i in range(5)]   # clean ary\n",
    "print ary_2"
   ]
  },
  {
   "cell_type": "markdown",
   "metadata": {},
   "source": [
    "# tuple Concatenate"
   ]
  },
  {
   "cell_type": "code",
   "execution_count": 1,
   "metadata": {},
   "outputs": [
    {
     "name": "stdout",
     "output_type": "stream",
     "text": [
      "<type 'tuple'>\n",
      "(1, 'b', 345)\n",
      "<type 'tuple'>\n",
      "(1, 'b', 345)\n"
     ]
    }
   ],
   "source": [
    "from types import *\n",
    "\n",
    "\n",
    "a = 1 \n",
    "b = 'b'\n",
    "c = 345\n",
    "\n",
    "tup = (a,b,c)\n",
    "tup_1_0 = (b,c)\n",
    "\n",
    "\n",
    "tup_1 = tuple([a]) + tup_1_0\n",
    "\n",
    "print type(tup)\n",
    "print tup\n",
    "\n",
    "print type(tup_1)\n",
    "print tup_1"
   ]
  },
  {
   "cell_type": "markdown",
   "metadata": {},
   "source": [
    "# deque test"
   ]
  },
  {
   "cell_type": "code",
   "execution_count": 5,
   "metadata": {},
   "outputs": [
    {
     "name": "stdout",
     "output_type": "stream",
     "text": [
      "deque([0, 4, 6], maxlen=4)\n",
      "[0, 4, 6]\n"
     ]
    }
   ],
   "source": [
    "from collections import deque\n",
    "import numpy as np\n",
    "action_deque = deque(maxlen=4)\n",
    "\n",
    "\n",
    "action_deque.append(0)\n",
    "action_deque.append(4)\n",
    "action_deque.append(6)\n",
    "# action_deque.append(3)\n",
    "\n",
    "\n",
    "print(action_deque)\n",
    "\n",
    "d_ary =[d for d in action_deque]\n",
    "print(d_ary)\n",
    "# state = np.concatenate([d for d in action_deque])\n",
    "\n",
    "# print(state)"
   ]
  },
  {
   "cell_type": "markdown",
   "metadata": {},
   "source": [
    "# t_arms[-2:]"
   ]
  },
  {
   "cell_type": "code",
   "execution_count": 2,
   "metadata": {},
   "outputs": [
    {
     "name": "stdout",
     "output_type": "stream",
     "text": [
      "[201.90378134, -98.25751273]\n"
     ]
    }
   ],
   "source": [
    "t_arms=[ 101.92594524,  -96.15221263,  201.90378134,  -98.25751273]\n",
    "print(t_arms[-2:])\n"
   ]
  },
  {
   "cell_type": "markdown",
   "metadata": {},
   "source": [
    "# 內建函數 getattr()"
   ]
  },
  {
   "cell_type": "code",
   "execution_count": 2,
   "metadata": {},
   "outputs": [
    {
     "name": "stdout",
     "output_type": "stream",
     "text": [
      "<bound method Demo.__init__ of <__main__.Demo instance at 0x105e08368>>\n",
      "22\n",
      "xxx\n",
      "yyy\n",
      "zzz\n",
      "<bound method Demo.__str__ of <__main__.Demo instance at 0x105e08368>>\n",
      "<bound method Demo.hello of <__main__.Demo instance at 0x105e08368>>\n",
      "hello 22\n"
     ]
    }
   ],
   "source": [
    "class Demo:\n",
    "    def __init__(self, i):\n",
    "        self.i = i\n",
    "        self.x = \"xxx\"\n",
    "        self.y = \"yyy\"\n",
    "        self.z = \"zzz\"\n",
    "     \n",
    "    def __str__(self):\n",
    "        return str(self.i)\n",
    "          \n",
    "    def hello(self):\n",
    "        print(\"hello \" + self.__str__())\n",
    " \n",
    "d = Demo(22)\n",
    "print(getattr(d, \"__init__\"))\n",
    "print(getattr(d, \"i\"))\n",
    "print(getattr(d, \"x\"))\n",
    "print(getattr(d, \"y\"))\n",
    "print(getattr(d, \"z\"))\n",
    "print(getattr(d, \"__str__\"))\n",
    "print(getattr(d, \"hello\"))\n",
    "hello_fn = getattr(d, \"hello\")\n",
    "hello_fn()"
   ]
  },
  {
   "cell_type": "markdown",
   "metadata": {},
   "source": [
    "# Use 'Class Name String' to get Class"
   ]
  },
  {
   "cell_type": "code",
   "execution_count": 4,
   "metadata": {},
   "outputs": [
    {
     "name": "stdout",
     "output_type": "stream",
     "text": [
      "hello 809\n"
     ]
    }
   ],
   "source": [
    "demo_cls = globals()['Demo']\n",
    "d = demo_cls(809)\n",
    "\n",
    "d.hello()"
   ]
  }
 ],
 "metadata": {
  "kernelspec": {
   "display_name": "Python 2",
   "language": "python",
   "name": "python2"
  },
  "language_info": {
   "codemirror_mode": {
    "name": "ipython",
    "version": 2
   },
   "file_extension": ".py",
   "mimetype": "text/x-python",
   "name": "python",
   "nbconvert_exporter": "python",
   "pygments_lexer": "ipython2",
   "version": "2.7.13"
  }
 },
 "nbformat": 4,
 "nbformat_minor": 2
}
