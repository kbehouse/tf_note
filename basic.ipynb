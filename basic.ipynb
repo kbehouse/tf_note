{
 "cells": [
  {
   "cell_type": "markdown",
   "metadata": {},
   "source": [
    "tf.argmax()\n",
    "=========="
   ]
  },
  {
   "cell_type": "code",
   "execution_count": 3,
   "metadata": {},
   "outputs": [
    {
     "name": "stdout",
     "output_type": "stream",
     "text": [
      "[1 1 1 0 0 0]\n",
      "[4 2]\n"
     ]
    }
   ],
   "source": [
    "import tensorflow as tf\n",
    "B = [ [ 3,  7,  2 ,99,200,3],\n",
    "      [10, 20, 30 ,1 ,  3,2 ]]\n",
    "\n",
    "m = tf.argmax(B)\n",
    "\n",
    "print tf.Session().run(m)\n",
    "\n",
    "m = tf.argmax(B, 1)\n",
    "print tf.Session().run(m)"
   ]
  },
  {
   "cell_type": "markdown",
   "metadata": {},
   "source": [
    "tf.reshape()\n",
    "=============="
   ]
  },
  {
   "cell_type": "code",
   "execution_count": 1,
   "metadata": {},
   "outputs": [
    {
     "name": "stdout",
     "output_type": "stream",
     "text": [
      "x ---> Tensor(\"Placeholder:0\", shape=(?, 784), dtype=float32)\n",
      "note -1 will be ?\n",
      "x ----afetr reshape--> Tensor(\"Reshape:0\", shape=(?, 28, 28, 1), dtype=float32)\n"
     ]
    }
   ],
   "source": [
    "import tensorflow as tf\n",
    "\n",
    "n_input = 784 # MNIST data input (img shape: 28*28)\n",
    "\n",
    "# tf Graph input\n",
    "x = tf.placeholder(tf.float32, [None, n_input])\n",
    "print('x ---> ' + str(x))\n",
    "\n",
    "\n",
    "# Reshape input picture\n",
    "x = tf.reshape(x, shape=[-1, 28, 28, 1])\n",
    "print('note -1 will be ?')\n",
    "print('x ----afetr reshape--> ' + str(x))\n"
   ]
  },
  {
   "cell_type": "markdown",
   "metadata": {},
   "source": [
    "tf.dropout()\n",
    "==============\n",
    "\n",
    "REFER URL:\n",
    "U1: https://www.tensorflow.org/api_docs/python/tf/nn/dropout\n",
    "U2: http://www.jianshu.com/p/c9f66bc8f96c\n",
    "\n",
    "1. 留下來的會  乘 1/keep_prob, 範例中keep_prob = 0.5，所以乘2\n",
    "\n",
    "With probability keep_prob, outputs the input element scaled up by 1 / keep_prob, otherwise outputs 0\n",
    "\n",
    "2. random的，每次結果都不一樣，可看Area A 比較Area B，一樣的程式碼，結果不一樣\n",
    "\n",
    "3. (17/08/27) 結論是，每次DROPOUT的都不一樣，留著的*1/keep_prob\n"
   ]
  },
  {
   "cell_type": "code",
   "execution_count": 27,
   "metadata": {},
   "outputs": [
    {
     "name": "stdout",
     "output_type": "stream",
     "text": [
      "m -->\n",
      "[[ 0.20629479 -0.489871    0.36569953]\n",
      " [ 0.33093473 -0.26071212  0.68235433]\n",
      " [-0.15986885 -1.8439554   1.8478545 ]]\n",
      "d(drop out with 0.5) -->\n",
      "[[ 0.41258958 -0.          0.73139906]\n",
      " [ 0.         -0.          0.        ]\n",
      " [-0.3197377  -3.6879108   3.69570899]]\n"
     ]
    }
   ],
   "source": [
    "#---- Area A----#\n",
    "import tensorflow as tf\n",
    "\n",
    "# m = tf.Variable(tf.random_normal([3,3]))  \n",
    "m = tf.constant(\n",
    "    [[ 0.20629479, -0.489871,    0.36569953] ,\n",
    "     [ 0.33093473, -0.26071212,  0.68235433],\n",
    "     [-0.15986885, -1.8439554,   1.8478545 ]] )\n",
    "# keep_prob = tf.placeholder(0.75) \n",
    "keep_prob = 0.5\n",
    "d = tf.nn.dropout(m, keep_prob)\n",
    "\n",
    "# Initializing the variables\n",
    "init = tf.global_variables_initializer()\n",
    "\n",
    "\n",
    "with tf.Session() as sess:\n",
    "    sess.run(init)\n",
    "    print('m -->')\n",
    "    print m.eval()\n",
    "    print('d(drop out with ' + str(keep_prob) + ') -->')\n",
    "    print d.eval()"
   ]
  },
  {
   "cell_type": "code",
   "execution_count": 4,
   "metadata": {},
   "outputs": [
    {
     "name": "stdout",
     "output_type": "stream",
     "text": [
      "m -->\n",
      "[[ 0.20629479 -0.489871    0.36569953]\n",
      " [ 0.33093473 -0.26071212  0.68235433]\n",
      " [-0.15986885 -1.8439554   1.8478545 ]]\n",
      "d(drop out with 0.5) -->\n",
      "[[ 0.         -0.97974199  0.73139906]\n",
      " [ 0.         -0.52142423  0.        ]\n",
      " [-0.         -3.6879108   3.69570899]]\n"
     ]
    }
   ],
   "source": [
    "#---- Area B----#\n",
    "import tensorflow as tf\n",
    "\n",
    "# m = tf.Variable(tf.random_normal([3,3]))  \n",
    "m = tf.constant(\n",
    "    [[ 0.20629479, -0.489871,    0.36569953] ,\n",
    "     [ 0.33093473, -0.26071212,  0.68235433],\n",
    "     [-0.15986885, -1.8439554,   1.8478545 ]] )\n",
    "# keep_prob = tf.placeholder(0.75) \n",
    "keep_prob = 0.5\n",
    "d = tf.nn.dropout(m, keep_prob)\n",
    "\n",
    "# Initializing the variables\n",
    "init = tf.global_variables_initializer()\n",
    "\n",
    "\n",
    "with tf.Session() as sess:\n",
    "    sess.run(init)\n",
    "    print('m -->')\n",
    "    print m.eval()\n",
    "    print('d(drop out with ' + str(keep_prob) + ') -->')\n",
    "    print d.eval()\n",
    "    "
   ]
  },
  {
   "cell_type": "markdown",
   "metadata": {},
   "source": [
    "tf.cast()\n",
    "=========\n",
    "URL: https://www.tensorflow.org/api_docs/python/tf/cast\n",
    "\n",
    "型態轉換\n",
    "\n",
    "tensor `a` is [1.8, 2.2], dtype=tf.float\n",
    "\n",
    "tf.cast(a, tf.int32) ==> [1, 2]  # dtype=tf.int32"
   ]
  },
  {
   "cell_type": "markdown",
   "metadata": {
    "collapsed": true
   },
   "source": [
    "# tf.add_n()"
   ]
  },
  {
   "cell_type": "code",
   "execution_count": 4,
   "metadata": {},
   "outputs": [
    {
     "data": {
      "text/plain": [
       "6"
      ]
     },
     "execution_count": 4,
     "metadata": {},
     "output_type": "execute_result"
    }
   ],
   "source": [
    "a = 1\n",
    "b = 2\n",
    "c = 3\n",
    "\n",
    "s = tf.add_n([a,b, c])\n",
    "\n",
    "tf.Session().run(s)"
   ]
  },
  {
   "cell_type": "markdown",
   "metadata": {},
   "source": [
    "# tf.slice()"
   ]
  },
  {
   "cell_type": "code",
   "execution_count": 8,
   "metadata": {},
   "outputs": [
    {
     "name": "stdout",
     "output_type": "stream",
     "text": [
      "x = [[1, 2, 3], [4, 5, 6]]\n",
      "x_slice = [[4 5]]\n",
      "y = [[[ 0  1  2  3]\n",
      "  [ 4  5  6  7]\n",
      "  [ 8  9 10 11]]\n",
      "\n",
      " [[12 13 14 15]\n",
      "  [16 17 18 19]\n",
      "  [20 21 22 23]]]\n",
      "y_slice = [[[12 13 14]\n",
      "  [16 17 18]]]\n",
      "z = [[[ 0  1  2]\n",
      "  [ 3  4  5]]\n",
      "\n",
      " [[ 6  7  8]\n",
      "  [ 9 10 11]]\n",
      "\n",
      " [[12 13 14]\n",
      "  [15 16 17]]]\n",
      "z_slice = [[[ 4  5]]\n",
      "\n",
      " [[10 11]]\n",
      "\n",
      " [[16 17]]]\n"
     ]
    }
   ],
   "source": [
    "\n",
    "import tensorflow as tf  \n",
    "import numpy as np  \n",
    "x=[[1,2,3],[4,5,6]]  \n",
    "\n",
    "sess=tf.Session()  \n",
    "begin_x=[1,0]        #第一个1，决定了从x的第二行[4,5,6]开始，第二个0，决定了从[4,5,6] 中的4开始抽取  \n",
    "size_x=[1,2]           # 第一个1决定了，从第二行以起始位置抽取1行，也就是只抽取[4,5,6] 这一行，在这一行中从4开始抽取2个元素  \n",
    "out=tf.slice(x,begin_x,size_x)  \n",
    "print('x = {}'.format(x) )\n",
    "print('x_slice = {}'.format(sess.run(out)) )\n",
    "# print sess.run(out)  #  结果:[[4 5]]  \n",
    "  \n",
    "y=np.arange(24).reshape([2,3,4])  \n",
    "begin_y=[1,0,0]  \n",
    "size_y=[1,2,3]  \n",
    "out=tf.slice(y,begin_y,size_y)     \n",
    "print('y = {}'.format(y) )\n",
    "print('y_slice = {}'.format(sess.run(out)) )\n",
    "# print sess.run(out)  # 结果:[[[12 13 14] [16 17 18]]]  \n",
    "\n",
    "# 1 \n",
    "# z=tf.constant([[[1,2,3],[4,5,6]], [[7,8,9],[10,11,12]],  [[13,14,15],[16,17,18]]]  )\n",
    "# 2\n",
    "z=np.arange(18).reshape([3,2,3])  \n",
    "\n",
    "\n",
    "# Note: result of 1 & 2 is different, arange index from 0\n",
    "\n",
    "begin_z=[0,1,1]  \n",
    "size_z=[-1,1,2]   \n",
    "out=tf.slice(z,begin_z,size_z)\n",
    "print('z = {}'.format(z) )\n",
    "print('z_slice = {}'.format(sess.run(out)) )\n",
    "# print sess.run(out)  # size[i]=-1 表示第i维从begin[i]剩余的元素都要被抽取，结果：[[[ 5  6]] [[11 12]] [[17 18]]]  "
   ]
  },
  {
   "cell_type": "markdown",
   "metadata": {
    "collapsed": true
   },
   "source": [
    "tf.unstack()\n",
    "=========="
   ]
  },
  {
   "cell_type": "code",
   "execution_count": 2,
   "metadata": {},
   "outputs": [
    {
     "name": "stdout",
     "output_type": "stream",
     "text": [
      "u = [array([4, 6, 5], dtype=int32), array([2, 2, 2], dtype=int32), array([0, 0, 0], dtype=int32), array([4, 4, 4], dtype=int32), array([5, 5, 5], dtype=int32)]\n",
      "t = [array([4, 2, 0, 4, 5], dtype=int32), array([6, 2, 0, 4, 5], dtype=int32), array([5, 2, 0, 4, 5], dtype=int32)]\n"
     ]
    }
   ],
   "source": [
    "#-----Test for unstack------#\n",
    "import tensorflow as tf\n",
    "\n",
    "A = [ [4,6, 5 ], \n",
    "      [2,2, 2],\n",
    "     [0,0, 0 ],\n",
    "     [4,4, 4 ],\n",
    "     [5, 5, 5 ]\n",
    "    ]\n",
    "\n",
    "u = tf.unstack(A, axis = 0)\n",
    "t = tf.unstack(A, axis = 1)\n",
    "# Launch the graph\n",
    "with tf.Session() as sess:\n",
    "    print('u = ' + str( sess.run(u) ) )\n",
    "    print('t = ' + str( sess.run(t) ) )\n",
    "    "
   ]
  },
  {
   "cell_type": "code",
   "execution_count": 3,
   "metadata": {},
   "outputs": [
    {
     "name": "stdout",
     "output_type": "stream",
     "text": [
      "u = [array([[4, 6, 5],\n",
      "       [2, 2, 2]], dtype=int32), array([[0, 0, 0],\n",
      "       [4, 4, 4]], dtype=int32), array([[5, 5, 5],\n",
      "       [6, 6, 6]], dtype=int32)]\n"
     ]
    }
   ],
   "source": [
    "#-----Test for unstack------#\n",
    "import tensorflow as tf\n",
    "\n",
    "A = [  \n",
    "      [ \n",
    "            [4,6, 5 ], \n",
    "            [2,2, 2] \n",
    "      ],\n",
    "      [\n",
    "         [0,0, 0 ],\n",
    "         [4,4, 4 ]\n",
    "         \n",
    "      ],\n",
    "      [\n",
    "          [5, 5, 5 ],\n",
    "          [6, 6, 6]\n",
    "      ]\n",
    "    ]\n",
    "\n",
    "u = tf.unstack(A, 3)\n",
    "# t = tf.unstack(A, 3, axis = 1)\n",
    "# Launch the graph\n",
    "with tf.Session() as sess:\n",
    "    print('u = ' + str( sess.run(u) ) )\n",
    "#     print('t = ' + str( sess.run(t) ) )\n",
    "    "
   ]
  },
  {
   "cell_type": "markdown",
   "metadata": {},
   "source": [
    "# tf.random_normal()"
   ]
  },
  {
   "cell_type": "code",
   "execution_count": null,
   "metadata": {
    "collapsed": true
   },
   "outputs": [],
   "source": [
    "#-----Test for random_normal------#\n",
    "import tensorflow as tf\n",
    "\n",
    "in_size = 3\n",
    "out_size = 7 \n",
    "ran_norm = tf.random_normal([in_size, out_size])\n",
    "                            \n",
    "with tf.Session() as sess:\n",
    "    print('ran_norm = ' + str( sess.run(ran_norm) ) )"
   ]
  },
  {
   "cell_type": "markdown",
   "metadata": {},
   "source": [
    "# tf.one_hot()"
   ]
  },
  {
   "cell_type": "code",
   "execution_count": 1,
   "metadata": {},
   "outputs": [
    {
     "name": "stdout",
     "output_type": "stream",
     "text": [
      "u = [ 0.  0.  1.  0.]\n"
     ]
    }
   ],
   "source": [
    "#-----Test for unstack------#\n",
    "import tensorflow as tf\n",
    "\n",
    "NUM_ACTIONS = 4\n",
    "action = 2\n",
    "\n",
    "u = tf.one_hot(action, NUM_ACTIONS)\n",
    "\n",
    "with tf.Session() as sess:\n",
    "    print('u = ' + str( sess.run(u) ) )\n"
   ]
  },
  {
   "cell_type": "markdown",
   "metadata": {},
   "source": [
    "# tf.range()"
   ]
  },
  {
   "cell_type": "code",
   "execution_count": 3,
   "metadata": {},
   "outputs": [
    {
     "name": "stdout",
     "output_type": "stream",
     "text": [
      "[0 3 6]\n",
      "[0 1 2 3 4 5 6]\n"
     ]
    }
   ],
   "source": [
    "import tensorflow as tf\n",
    "\n",
    "# tt = tf.range(start, limit, delta) \n",
    "tt = tf.range(0, 7, 3) \n",
    "tt_2 = tf.range(0, 7) \n",
    "\n",
    "\n",
    "with tf.Session() as sess:\n",
    "    tt_res = sess.run(tt)\n",
    "    print(tt_res)\n",
    "    print  sess.run(tt_2)\n",
    "    "
   ]
  },
  {
   "cell_type": "markdown",
   "metadata": {},
   "source": [
    "# tf.Print()             exe only"
   ]
  },
  {
   "cell_type": "code",
   "execution_count": 8,
   "metadata": {
    "collapsed": true
   },
   "outputs": [],
   "source": [
    "# Initialize session\n",
    "import tensorflow as tf\n",
    "sess = tf.InteractiveSession()\n",
    "\n",
    "# Some tensor we want to print the value of\n",
    "a = tf.constant([1.0, 3.0])\n",
    "\n",
    "# Add print operation\n",
    "a = tf.Print(a, [a], message=\"This is a: \")\n",
    "\n",
    "# Add more elements of the graph using a\n",
    "b = tf.add(a, a).eval()"
   ]
  },
  {
   "cell_type": "code",
   "execution_count": 6,
   "metadata": {},
   "outputs": [
    {
     "data": {
      "text/plain": [
       "array([ 0.23377556,  5.40827465,  6.46472454, -2.60594249], dtype=float32)"
      ]
     },
     "execution_count": 6,
     "metadata": {},
     "output_type": "execute_result"
    }
   ],
   "source": [
    "import tensorflow as tf\n",
    "\n",
    "x_input_data = tf.random_normal([4], mean=-1, stddev=4)\n",
    "\n",
    "x_input_data = tf.Print(x_input_data, data=[ x_input_data], message=\"x_input_data:\")\n",
    "\n",
    "final = x_input_data + 1\n",
    "\n",
    "final = tf.Print(final, data=[ final], message=\"final:\")\n",
    "\n",
    "with tf.Session() as sess:\n",
    "    print sess.run(final)\n",
    "\n",
    "    "
   ]
  },
  {
   "cell_type": "markdown",
   "metadata": {},
   "source": [
    "# tf.gather()\n",
    "\n",
    "![tf.gather()](https://www.tensorflow.org/images/Gather.png)"
   ]
  },
  {
   "cell_type": "markdown",
   "metadata": {},
   "source": [
    "# tf.reduce_mean()\n",
    "\n",
    "```\n",
    "'x' is [[1., 1.]\n",
    "         [2., 2.]]\n",
    "         \n",
    "tf.reduce_mean(x) ==> 1.5\n",
    "tf.reduce_mean(x, 0) ==> [1.5, 1.5]\n",
    "tf.reduce_mean(x, 1) ==> [1.,  2.]\n",
    "```"
   ]
  },
  {
   "cell_type": "markdown",
   "metadata": {},
   "source": [
    "\n",
    "# tf.clip_by_value(A, min, max)\n",
    "\n",
    "tf.clip_by_value(A, min, max)：输入一个张量A，把A中的每一个元素的值都压缩在min和max之间。小于min的让它等于min，大于max的元素的值等于max。"
   ]
  },
  {
   "cell_type": "code",
   "execution_count": 2,
   "metadata": {},
   "outputs": [
    {
     "name": "stdout",
     "output_type": "stream",
     "text": [
      "[[2 2 2 4]\n",
      " [3 4 5 5]]\n"
     ]
    }
   ],
   "source": [
    "import tensorflow as tf;  \n",
    "import numpy as np;  \n",
    "  \n",
    "A = np.array([[1,1,2,4], [3,4,8,5]])  \n",
    "  \n",
    "with tf.Session() as sess:  \n",
    "    print sess.run(tf.clip_by_value(A, 2, 5))  "
   ]
  }
 ],
 "metadata": {
  "kernelspec": {
   "display_name": "Python 2",
   "language": "python",
   "name": "python2"
  },
  "language_info": {
   "codemirror_mode": {
    "name": "ipython",
    "version": 2
   },
   "file_extension": ".py",
   "mimetype": "text/x-python",
   "name": "python",
   "nbconvert_exporter": "python",
   "pygments_lexer": "ipython2",
   "version": "2.7.12"
  }
 },
 "nbformat": 4,
 "nbformat_minor": 2
}
