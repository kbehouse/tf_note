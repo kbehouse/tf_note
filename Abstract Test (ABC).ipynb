{
 "cells": [
  {
   "cell_type": "code",
   "execution_count": 1,
   "metadata": {},
   "outputs": [
    {
     "name": "stdout",
     "output_type": "stream",
     "text": [
      "True\n",
      "True\n"
     ]
    }
   ],
   "source": [
    "from abc import ABCMeta\n",
    "\n",
    "class MyABC:\n",
    "    __metaclass__ = ABCMeta\n",
    "\n",
    "MyABC.register(tuple)\n",
    "\n",
    "print issubclass(tuple, MyABC)\n",
    "print isinstance((), MyABC)"
   ]
  },
  {
   "cell_type": "code",
   "execution_count": 2,
   "metadata": {},
   "outputs": [],
   "source": [
    "from abc import ABCMeta,abstractmethod\n",
    "import random\n",
    "\n",
    "class GuessGame:\n",
    "    \n",
    "    __metaclass__ = ABCMeta\n",
    "    \n",
    "    @abstractmethod\n",
    "    def message(self, msg):\n",
    "        pass\n",
    "\n",
    "    @abstractmethod\n",
    "    def guess(self):\n",
    "        pass   \n",
    "    \n",
    "    def go(self):\n",
    "        self.message(self.welcome)\n",
    "        number = int(random.random() * 10)\n",
    "        while True:\n",
    "            guess = self.guess();\n",
    "            if guess > number:\n",
    "                self.message(self.bigger)\n",
    "            elif guess < number:\n",
    "                self.message(self.smaller)\n",
    "            else:\n",
    "                break\n",
    "        self.message(self.correct)"
   ]
  },
  {
   "cell_type": "markdown",
   "metadata": {},
   "source": [
    "# Error Test"
   ]
  },
  {
   "cell_type": "code",
   "execution_count": 4,
   "metadata": {},
   "outputs": [
    {
     "name": "stdout",
     "output_type": "stream",
     "text": [
      "True\n",
      "True\n"
     ]
    }
   ],
   "source": [
    "class ConsoleGame(GuessGame):\n",
    "    def __init__(self):\n",
    "        self.welcome = \"歡迎\"\n",
    "        self.prompt = \"輸入數字：\"\n",
    "        self.correct = \"猜中了\"\n",
    "        self.bigger = \"你猜的比較大\"\n",
    "        self.smaller = \"你猜的比較小\"\n",
    "    def message(self, msg):\n",
    "        print(msg)\n",
    "    \n",
    "    \n",
    "    def guess(self):\n",
    "        return int(input(self.prompt))\n",
    "\n",
    "game = ConsoleGame()\n",
    "# game.go()\n",
    "\n",
    "print issubclass(ConsoleGame, GuessGame)\n",
    "\n",
    "\n",
    "# GuessGame_Six.register(ConsoleGame_Six)\n",
    "\n",
    "print isinstance(game, GuessGame)"
   ]
  },
  {
   "cell_type": "markdown",
   "metadata": {},
   "source": [
    "# for run in 2 & 3 = 6"
   ]
  },
  {
   "cell_type": "code",
   "execution_count": 6,
   "metadata": {},
   "outputs": [
    {
     "name": "stdout",
     "output_type": "stream",
     "text": [
      "True\n",
      "True\n"
     ]
    }
   ],
   "source": [
    "import six\n",
    "\n",
    "from abc import ABCMeta,abstractmethod\n",
    "\n",
    "@six.add_metaclass(ABCMeta)\n",
    "class GuessGame_Six(object):\n",
    "\n",
    "    @abstractmethod\n",
    "    def message(self, msg):\n",
    "        pass\n",
    "\n",
    "    @abstractmethod\n",
    "    def guess(self):\n",
    "        pass   \n",
    "    \n",
    "    \n",
    "class ConsoleGame_Six(GuessGame_Six):\n",
    "    def __init__(self):\n",
    "        self.welcome = \"歡迎\"\n",
    "        self.prompt = \"輸入數字：\"\n",
    "        self.correct = \"猜中了\"\n",
    "        self.bigger = \"你猜的比較大\"\n",
    "        self.smaller = \"你猜的比較小\"\n",
    "    \n",
    "    def message(self):\n",
    "        print 'hi'\n",
    "    \n",
    "    def guess(self):\n",
    "        return int(input(self.prompt))\n",
    "    \n",
    "print issubclass(ConsoleGame_Six, GuessGame_Six)\n",
    "\n",
    "\n",
    "GuessGame_Six.register(ConsoleGame_Six)\n",
    "\n",
    "tt = ConsoleGame_Six()\n",
    "print isinstance(tt, GuessGame_Six)"
   ]
  }
 ],
 "metadata": {
  "kernelspec": {
   "display_name": "Python 2",
   "language": "python",
   "name": "python2"
  },
  "language_info": {
   "codemirror_mode": {
    "name": "ipython",
    "version": 2
   },
   "file_extension": ".py",
   "mimetype": "text/x-python",
   "name": "python",
   "nbconvert_exporter": "python",
   "pygments_lexer": "ipython2",
   "version": "2.7.12"
  }
 },
 "nbformat": 4,
 "nbformat_minor": 2
}
