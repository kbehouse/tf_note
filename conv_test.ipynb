{
 "cells": [
  {
   "cell_type": "code",
   "execution_count": 55,
   "metadata": {},
   "outputs": [
    {
     "name": "stdout",
     "output_type": "stream",
     "text": [
      "None\n",
      "op.shape= (1, 3, 3, 1)\n",
      "op ->\n",
      "[[[[-1.47482526]\n",
      "   [-0.41506335]\n",
      "   [ 0.1682024 ]]\n",
      "\n",
      "  [[-0.81600702]\n",
      "   [-0.46789187]\n",
      "   [-0.40545577]]\n",
      "\n",
      "  [[ 0.15955564]\n",
      "   [ 1.28365827]\n",
      "   [ 0.63668406]]]]\n",
      "input ->\n",
      "[[[[ 0.18354212  0.04310609 -1.69357932  2.52137446  0.81831217]\n",
      "   [-0.65873384  0.734909    0.57711357 -0.09049443 -0.22313042]\n",
      "   [ 0.12068126 -0.54358184 -0.40195572  0.01604476 -1.00850964]]\n",
      "\n",
      "  [[ 0.11884379  0.64390957 -0.79883766  0.09010001  0.78838235]\n",
      "   [ 1.32106543  1.33582389 -1.1764437   0.92073876 -0.52782893]\n",
      "   [-0.29765347 -0.21230677 -0.97579432  1.96770442  0.36002848]]\n",
      "\n",
      "  [[ 1.66000569 -0.06999575 -0.72257751  0.12685859  1.30449867]\n",
      "   [-0.05592554 -0.03374482  0.42967561  0.13802923  0.39743382]\n",
      "   [-1.51017606  0.76810801 -1.20949721 -0.5777657   0.27024782]]]]\n",
      "filter ->\n",
      "[[[[-0.62746519]\n",
      "   [-0.09532461]\n",
      "   [ 0.47764039]\n",
      "   [-0.11251568]\n",
      "   [ 0.24137871]]]]\n"
     ]
    }
   ],
   "source": [
    "import tensorflow as tf\n",
    "\n",
    "input = tf.Variable(tf.random_normal([1,3,3,5]))  \n",
    "filter = tf.Variable(tf.random_normal([1,1,5,1]))  \n",
    "  \n",
    "op = tf.nn.conv2d(input, filter, strides=[1, 1, 1, 1], padding='VALID')  \n",
    "\n",
    "\n",
    "i = tf.Print(input,[input])\n",
    "\n",
    "# Initializing the variables\n",
    "init = tf.global_variables_initializer()\n",
    "\n",
    "with tf.Session() as sess:\n",
    "#     sess = tf.InteractiveSession()\n",
    "    print sess.run(init)\n",
    "#     print input\n",
    "    \n",
    "    op_run = sess.run(op)\n",
    "    print('op.shape= ' + str(op_run.shape))\n",
    "    print('op ->')\n",
    "    print(op_run)\n",
    "#     print i\n",
    "    i = input.eval()\n",
    "    print('input ->')\n",
    "    print(v)\n",
    "    \n",
    "    f = filter.eval()\n",
    "    print('filter ->')\n",
    "    print(f)"
   ]
  },
  {
   "cell_type": "code",
   "execution_count": 36,
   "metadata": {},
   "outputs": [
    {
     "name": "stdout",
     "output_type": "stream",
     "text": [
      "[-0.84149295 -0.65499955  0.6487695  -0.93239361  0.33005363]\n",
      "a.shape = (5,)\n",
      "[[-1.01911473]\n",
      " [-0.72998601]\n",
      " [ 0.79135501]\n",
      " [ 0.44278196]\n",
      " [ 0.47078079]]\n",
      "b.shape = (5, 1)\n"
     ]
    },
    {
     "data": {
      "text/plain": [
       "array([ 1.59166121], dtype=float32)"
      ]
     },
     "execution_count": 36,
     "metadata": {},
     "output_type": "execute_result"
    }
   ],
   "source": [
    "#----Test one-----#\n",
    "import numpy as np\n",
    "a = i[0][0][0]\n",
    "print a\n",
    "print('a.shape = ' + str(a.shape) )\n",
    "\n",
    "b = f[0][0]\n",
    "print b\n",
    "print('b.shape = ' + str(b.shape) )\n",
    "axb = np.dot(a,b)\n",
    "axb"
   ]
  },
  {
   "cell_type": "code",
   "execution_count": 38,
   "metadata": {},
   "outputs": [
    {
     "name": "stdout",
     "output_type": "stream",
     "text": [
      "(1, 3, 3, 5)\n",
      "1\n",
      "[ 1.59166121]\n",
      "[ 1.96764302]\n",
      "[ 1.30719566]\n",
      "\n",
      "[ 0.41158086]\n",
      "[ 1.29665637]\n",
      "[-0.29811031]\n",
      "\n",
      "[-4.5670476]\n",
      "[ 2.44930339]\n",
      "[-1.19264483]\n",
      "\n"
     ]
    }
   ],
   "source": [
    "#-----Test Getting Shape----#\n",
    "i_shape =  i.shape\n",
    "print i_shape      # ex (1, 3, 3, 5)\n",
    "print i_shape[0]\n",
    "\n",
    "batch = 0  # i[0]\n",
    "\n",
    "for j in range(i_shape[1]):  # me, get tensor 1 dimension\n",
    "    for k in range(i_shape[2]):\n",
    "        a = i[batch][j][k]\n",
    "        b = f[0][0]\n",
    "        axb = np.dot(a,b)\n",
    "        print axb\n",
    "        \n",
    "    print ''\n"
   ]
  },
  {
   "cell_type": "markdown",
   "metadata": {},
   "source": [
    "Test different(2*2) filter\n",
    "==========="
   ]
  },
  {
   "cell_type": "code",
   "execution_count": 6,
   "metadata": {},
   "outputs": [
    {
     "name": "stdout",
     "output_type": "stream",
     "text": [
      "None\n",
      "op.shape= (1, 4, 4, 1)\n",
      "op ->\n",
      "[[[[-1.10804176]\n",
      "   [-0.72836936]\n",
      "   [-3.32222509]\n",
      "   [ 0.73050916]]\n",
      "\n",
      "  [[-1.09239078]\n",
      "   [-3.97197127]\n",
      "   [-1.91689098]\n",
      "   [-3.11569691]]\n",
      "\n",
      "  [[-6.5242815 ]\n",
      "   [-2.04061031]\n",
      "   [-0.83294749]\n",
      "   [-1.86441231]]\n",
      "\n",
      "  [[-3.46149611]\n",
      "   [-2.06166196]\n",
      "   [-0.84477818]\n",
      "   [-0.21588326]]]]\n",
      "input ->\n",
      "[[[[ 0.74987453 -0.93930149  0.09991658  1.02164769  1.17628443]\n",
      "   [ 0.3578912   1.37779117  0.13016453 -0.96194756 -1.27554047]\n",
      "   [-0.1268917   0.85930574  1.98556554  0.82816905 -0.46493527]\n",
      "   [-1.08283758 -0.93318164 -1.11811066 -1.04505193 -0.39139229]]\n",
      "\n",
      "  [[-0.98069078  0.81567633 -1.01965773  0.7824142  -0.40045723]\n",
      "   [ 2.41978312 -0.28815955  1.45403504 -0.93779385  0.91394997]\n",
      "   [ 0.4143227   0.04495757 -0.54551661  0.89277053 -1.12244761]\n",
      "   [ 0.24115278  1.12178433  0.66101968 -0.41907901 -1.38993537]]\n",
      "\n",
      "  [[-0.66793984  0.00721651  0.21818852 -2.00269485  0.14369453]\n",
      "   [ 0.63453841  0.10181987 -1.36363268 -1.87375915  0.11832476]\n",
      "   [ 0.57917941  0.79742545  0.15041731  0.04044499 -0.36216184]\n",
      "   [-0.55565959  0.05602231 -0.83754104 -1.04742002 -0.49452981]]\n",
      "\n",
      "  [[ 0.28727877 -0.55009812  1.1623261  -0.75941658  0.75967324]\n",
      "   [-1.80620515  1.40514898 -0.75398099 -1.57700932 -1.44950438]\n",
      "   [-0.12614581  0.5977397  -0.91723156  0.10288219 -1.49889433]\n",
      "   [-0.08318672 -0.93797839 -0.94864625  0.48271358 -0.84356338]]]]\n",
      "filter ->\n",
      "[[[[-0.57355738]\n",
      "   [ 0.60549206]\n",
      "   [-0.83617073]\n",
      "   [ 1.25181818]\n",
      "   [ 1.29587996]]\n",
      "\n",
      "  [[-0.23938242]\n",
      "   [ 0.38599774]\n",
      "   [-0.36878082]\n",
      "   [ 1.19085515]\n",
      "   [ 0.96609443]]]\n",
      "\n",
      "\n",
      " [[[ 0.33758539]\n",
      "   [ 0.79822177]\n",
      "   [ 0.55128419]\n",
      "   [ 0.27778098]\n",
      "   [-0.23750387]]\n",
      "\n",
      "  [[ 0.07031805]\n",
      "   [-0.09530474]\n",
      "   [-0.46847054]\n",
      "   [ 1.10066807]\n",
      "   [ 0.65231872]]]]\n"
     ]
    }
   ],
   "source": [
    "#------Test different(2*2) filter ------#\n",
    "\n",
    "import tensorflow as tf\n",
    "\n",
    "input = tf.Variable(tf.random_normal([1,3,3,5]))  \n",
    "filter = tf.Variable(tf.random_normal([2,2,5,1]))  \n",
    "  \n",
    "# op = tf.nn.conv2d(input, filter, strides=[1, 1, 1, 1], padding='VALID')  \n",
    "op = tf.nn.conv2d(input, filter, strides=[1, 1, 1, 1], padding='SAME')  \n",
    "\n",
    "\n",
    "\n",
    "i = tf.Print(input,[input])\n",
    "\n",
    "# Initializing the variables\n",
    "init = tf.global_variables_initializer()\n",
    "\n",
    "with tf.Session() as sess:\n",
    "#     sess = tf.InteractiveSession()\n",
    "    print sess.run(init)\n",
    "#     print input\n",
    "    \n",
    "    op_run = sess.run(op)\n",
    "    print('op.shape= ' + str(op_run.shape))\n",
    "    print('op ->')\n",
    "    print(op_run)\n",
    "#     print i\n",
    "    i = input.eval()\n",
    "    print('input ->')\n",
    "    print(i)\n",
    "    \n",
    "    f = filter.eval()\n",
    "    print('filter ->')\n",
    "    print(f)"
   ]
  },
  {
   "cell_type": "code",
   "execution_count": null,
   "metadata": {
    "collapsed": true
   },
   "outputs": [],
   "source": []
  },
  {
   "cell_type": "markdown",
   "metadata": {},
   "source": [
    "note of 2*2 filter \n",
    "======\n",
    "use VALID -> output tensor  (1, 2, 2, 1)\n",
    "\n",
    "use SAME -> output tensor  (1, 3, 3, 1)"
   ]
  },
  {
   "cell_type": "code",
   "execution_count": 52,
   "metadata": {},
   "outputs": [
    {
     "name": "stdout",
     "output_type": "stream",
     "text": [
      "i.shape = (1, 3, 3, 5)\n",
      "f.shape = (2, 2, 5, 1)\n",
      "[ 10.91066742]\n",
      "[ 6.53901243]\n",
      "[-7.46039772]\n",
      "\n",
      "[ 1.77062333]\n",
      "[ 1.95030677]\n",
      "[ 3.1612606]\n",
      "\n",
      "[-1.58539152]\n",
      "[-3.70772552]\n",
      "[ 1.1700902]\n",
      "\n"
     ]
    }
   ],
   "source": [
    "#----Test one with 2*2 filter-----#\n",
    "import numpy as np\n",
    "\n",
    "print('i.shape = ' + str(i.shape) )\n",
    "\n",
    "print('f.shape = ' + str(f.shape) )\n",
    "\n",
    "\n",
    "f_shape = f.shape\n",
    "\n",
    "#-----Test Getting Shape----#\n",
    "# i_shape =  i.shape\n",
    "# print i_shape      # ex (1, 3, 3, 5)\n",
    "# print i_shape[0]\n",
    "\n",
    "batch = 0  # i[0]\n",
    "\n",
    "for j in range(i_shape[1]):  # me, get tensor 1 dimension\n",
    "    for k in range(i_shape[2]):\n",
    "        s = 0 #sum\n",
    "        for x in range(f.shape[0]):\n",
    "            if (j + x) >= i_shape[1]: \n",
    "                break\n",
    "            for y in range(f.shape[1]):\n",
    "                if (k + y) >= i_shape[2]: \n",
    "                    break\n",
    "#                 print('j+x = '+ str(j+x) )\n",
    "#                 print('k+y = '+ str(k+y) )\n",
    "                \n",
    "                a = i[batch][j+x][k+y]\n",
    "                b = f[x][y]\n",
    "                axb = np.dot(a,b)\n",
    "#                 print('axb = ' + str(axb)) \n",
    "                s = s + axb                #  important ------   multiply filter and add toghter\n",
    "                \n",
    "#         print('s  ----> ')\n",
    "        print s\n",
    "                \n",
    "        \n",
    "    print ''"
   ]
  },
  {
   "cell_type": "code",
   "execution_count": null,
   "metadata": {
    "collapsed": true
   },
   "outputs": [],
   "source": [
    "#---For Record Test Data----#\n",
    "[[[[ 10.91066742]\n",
    "   [  6.53901196]\n",
    "   [ -7.46039772]]\n",
    "\n",
    "  [[  1.77062321]\n",
    "   [  1.95030713]\n",
    "   [  3.1612606 ]]\n",
    "\n",
    "  [[ -1.58539128]\n",
    "   [ -3.70772552]\n",
    "   [  1.1700902 ]]]]"
   ]
  },
  {
   "cell_type": "markdown",
   "metadata": {},
   "source": [
    "Test With Differnt Out Channel\n",
    "======="
   ]
  },
  {
   "cell_type": "code",
   "execution_count": 9,
   "metadata": {},
   "outputs": [
    {
     "name": "stdout",
     "output_type": "stream",
     "text": [
      "None\n",
      "op.shape= (1, 3, 3, 2)\n",
      "op ->\n",
      "[[[[  2.72437859e+00   8.77986372e-01]\n",
      "   [  5.79973698e-01  -7.76740670e-01]\n",
      "   [ -2.86222219e-01   4.07304287e+00]]\n",
      "\n",
      "  [[  1.99107134e+00  -2.99000740e-03]\n",
      "   [ -1.44519198e+00   5.54613352e-01]\n",
      "   [  2.05971241e+00  -5.29438066e+00]]\n",
      "\n",
      "  [[ -2.08342075e+00  -9.88741398e-01]\n",
      "   [ -9.26128149e-01  -2.17836452e+00]\n",
      "   [  2.58143640e+00  -2.07778364e-01]]]]\n",
      "input ->\n",
      "[[[[ 1.28437507  0.40533164  0.20954601  0.06123202  0.01398064]\n",
      "   [ 0.1298566   0.95475525 -1.07261825  0.213752    0.49422541]\n",
      "   [ 0.22992861  0.23334277  1.13666773  0.48275319  1.4979527 ]]\n",
      "\n",
      "  [[ 0.84717822  0.47890055 -0.34139735  0.52007073  0.63943785]\n",
      "   [-0.49053946 -1.22950566  0.28296405 -2.13096666 -0.93342334]\n",
      "   [ 0.40095899 -0.08465092 -1.76012421  0.44305348 -0.60504675]]\n",
      "\n",
      "  [[-1.11284256  0.7777791  -1.43619978  1.02875304  1.9085685 ]\n",
      "   [-0.63494372  0.35268399 -0.65871185  0.33375522 -0.61986142]\n",
      "   [ 1.12738216  0.34613401 -1.1760726  -1.26324725  0.29619285]]]]\n",
      "filter: (1, 1, 5, 2) ->\n",
      "[[[[ 2.25042963 -0.02937327]\n",
      "   [-0.19573684  1.27325583]\n",
      "   [-0.48889911  2.18862653]\n",
      "   [ 0.31124684 -1.25307024]\n",
      "   [-0.23533864  1.26831388]]]]\n"
     ]
    }
   ],
   "source": [
    "#----Test With Differnt Out Channel------# \n",
    "import tensorflow as tf\n",
    "\n",
    "input = tf.Variable(tf.random_normal([1,3,3,5]))  \n",
    "filter = tf.Variable(tf.random_normal([1,1,5,2]))  \n",
    "  \n",
    "op = tf.nn.conv2d(input, filter, strides=[1, 1, 1, 1], padding='VALID')  \n",
    "\n",
    "\n",
    "i = tf.Print(input,[input])\n",
    "\n",
    "# Initializing the variables\n",
    "init = tf.global_variables_initializer()\n",
    "\n",
    "with tf.Session() as sess:\n",
    "#     sess = tf.InteractiveSession()\n",
    "    print sess.run(init)\n",
    "#     print input\n",
    "    \n",
    "    op_run = sess.run(op)\n",
    "    print('op.shape= ' + str(op_run.shape))\n",
    "    print('op ->')\n",
    "    print(op_run)\n",
    "#     print i\n",
    "    i = input.eval()\n",
    "    print('input ->')\n",
    "    print(i)\n",
    "    \n",
    "    f = filter.eval()\n",
    "    print('filter: ' + str(f.shape) +' ->')\n",
    "    print(f)"
   ]
  },
  {
   "cell_type": "code",
   "execution_count": 70,
   "metadata": {},
   "outputs": [
    {
     "name": "stdout",
     "output_type": "stream",
     "text": [
      "a = [-0.99288738 -1.9496783  -0.06509738 -0.44621241 -1.9109093 ]\n",
      "a.shape = (5,)\n",
      "f[0,0,:,0] = [ 0.25707984  2.52177858 -0.435913    1.61234844  0.44589883]\n",
      "b.shape = (5,)\n",
      "-6.71505\n",
      "f[0,0,:,1] = [ 0.42749092  0.8745597  -0.84834802  3.32428122  0.23526999]\n",
      "b.shape = (5,)\n",
      "-4.00725\n",
      "Result of [0,0] & [0,1] \n",
      "[ -6.71505,-4.00725] --->  same as convolution colum 0\n"
     ]
    }
   ],
   "source": [
    "#----Test one With Differnt Out Channel-----#\n",
    "import numpy as np\n",
    "a = i[0][0][0]\n",
    "print('a = ' + str(a))\n",
    "print('a.shape = ' + str(a.shape) )\n",
    "\n",
    "b = f[0,0,:,0]\n",
    "print('f[0,0,:,0] = ' + str(b))\n",
    "print('b.shape = ' + str(b.shape) )\n",
    "axb_00 = np.dot(a,b)\n",
    "print axb_00\n",
    "\n",
    "b = f[0,0,:,1]\n",
    "print('f[0,0,:,1] = ' + str(b))\n",
    "print('b.shape = ' + str(b.shape) )\n",
    "axb_01 = np.dot(a,b)\n",
    "print axb_01\n",
    "\n",
    "\n",
    "print('Result of [0,0] & [0,1] ')\n",
    "print('[ ' + str(axb_00) + ', ' +  str(axb_01) +'] --->  same as convolution colum 0')\n"
   ]
  },
  {
   "cell_type": "code",
   "execution_count": null,
   "metadata": {
    "collapsed": true
   },
   "outputs": [],
   "source": []
  }
 ],
 "metadata": {
  "kernelspec": {
   "display_name": "Python 2",
   "language": "python",
   "name": "python2"
  },
  "language_info": {
   "codemirror_mode": {
    "name": "ipython",
    "version": 2
   },
   "file_extension": ".py",
   "mimetype": "text/x-python",
   "name": "python",
   "nbconvert_exporter": "python",
   "pygments_lexer": "ipython2",
   "version": "2.7.12"
  }
 },
 "nbformat": 4,
 "nbformat_minor": 2
}
