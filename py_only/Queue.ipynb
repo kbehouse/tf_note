{
 "cells": [
  {
   "cell_type": "markdown",
   "metadata": {},
   "source": [
    "# FIFOQueue\n",
    "\n",
    "![FIFOQueue](https://www.tensorflow.org/images/IncremeterFifoQueue.gif)"
   ]
  },
  {
   "cell_type": "code",
   "execution_count": 7,
   "metadata": {},
   "outputs": [
    {
     "name": "stdout",
     "output_type": "stream",
     "text": [
      "None\n"
     ]
    }
   ],
   "source": [
    "import tensorflow as tf\n",
    "\n",
    "\n",
    "q = tf.FIFOQueue(capacity=3, dtypes=tf.float32)\n",
    "init = q.enqueue_many(([0.,0.,0.],))\n",
    "\n",
    "x = q.dequeue()\n",
    "y = x + 1\n",
    "q_inc = q.enqueue([y])\n",
    "\n",
    "with tf.Session():\n",
    "    init.run()\n",
    "    print q_inc.run()"
   ]
  },
  {
   "cell_type": "code",
   "execution_count": null,
   "metadata": {
    "collapsed": true
   },
   "outputs": [],
   "source": [
    "import tensorflow as tf\n",
    "\n",
    "# We simulate some raw input data\n",
    "# let's start with only 3 samples of 1 data point\n",
    "x_input_data = tf.random_normal([3], mean=-1, stddev=4)\n",
    "\n",
    "\n",
    "# We build a FIFOQueue inside the graph \n",
    "# You can see it as a waiting line that holds waiting data\n",
    "# In this case, a line with only 3 positions\n",
    "q = tf.FIFOQueue(capacity=3, dtypes=tf.float32)\n",
    "\n",
    "# We need an operation that will actually fill the queue with our data\n",
    "# \"enqueue_many\" slices \"x_input_data\" along the 0th dimension to make multiple queue elements\n",
    "enqueue_op = q.enqueue_many(x_input_data) # <- x1 - x2 -x3 |\n",
    "\n",
    "# We need a dequeue op to get the next elements in the queue following the FIFO policy.\n",
    "input = q.dequeue() \n",
    "# The input tensor is the equivalent of a placeholder now \n",
    "# but directly connected to the data sources in the graph\n",
    "\n",
    "# Each time we use the input tensor, we print the number of elements left\n",
    "# in the queue\n",
    "input = tf.Print(input, data=[q.size()], message=\"Nb elements left:\")\n",
    "\n",
    "# fake graph: START\n",
    "y = input + 1\n",
    "# fake graph: END \n",
    "\n",
    "# We start the session as usual\n",
    "with tf.Session() as sess:\n",
    "    # We first run the enqueue_op to load our data into the queue\n",
    "    sess.run(enqueue_op)\n",
    "    # Now, our queue holds 3 elements, it's full. \n",
    "    # We can start to consume our data\n",
    "    sess.run(y)\n",
    "    sess.run(y) \n",
    "    sess.run(y) \n",
    "    # Now our queue is empty, if we call it again, our program will hang right here\n",
    "    # waiting for the queue to be filled by at least one more datum\n",
    "    sess.run(y)\n"
   ]
  },
  {
   "cell_type": "code",
   "execution_count": null,
   "metadata": {
    "collapsed": true
   },
   "outputs": [],
   "source": []
  }
 ],
 "metadata": {
  "kernelspec": {
   "display_name": "Python 2",
   "language": "python",
   "name": "python2"
  },
  "language_info": {
   "codemirror_mode": {
    "name": "ipython",
    "version": 2
   },
   "file_extension": ".py",
   "mimetype": "text/x-python",
   "name": "python",
   "nbconvert_exporter": "python",
   "pygments_lexer": "ipython2",
   "version": "2.7.12"
  }
 },
 "nbformat": 4,
 "nbformat_minor": 2
}
