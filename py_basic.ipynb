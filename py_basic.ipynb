{
 "cells": [
  {
   "cell_type": "markdown",
   "metadata": {},
   "source": [
    "# ary[::-1]"
   ]
  },
  {
   "cell_type": "code",
   "execution_count": 2,
   "metadata": {},
   "outputs": [
    {
     "name": "stdout",
     "output_type": "stream",
     "text": [
      "ary_1d[::-1]\n",
      "[4, 3, 2, 1]\n",
      "ary_1d[:-1]\n",
      "[1, 2, 3]\n",
      "\n",
      "ary_2d[::-1]\n",
      "[[4, 14, 52, 14], [3, 72, 2, 490], [2, 6, 11, 4], [1, 5, 7, 1]]\n",
      "ary_2d[:-1]\n",
      "[[1, 5, 7, 1], [2, 6, 11, 4], [3, 72, 2, 490]]\n"
     ]
    }
   ],
   "source": [
    "ary_1d= [ 1,2,3,4]\n",
    "print('ary_1d[::-1]')\n",
    "print(ary_1d[::-1])\n",
    "\n",
    "print('ary_1d[:-1]')\n",
    "print(ary_1d[:-1])\n",
    "\n",
    "print('')\n",
    "\n",
    "\n",
    "ary_2d= [ [1,5,7,1],\n",
    "        [2,6,11,4],\n",
    "        [3,72,2,490],\n",
    "        [4, 14,52, 14]\n",
    "      ]\n",
    "print('ary_2d[::-1]')\n",
    "print(ary_2d[::-1])\n",
    "\n",
    "print('ary_2d[:-1]')\n",
    "print(ary_2d[:-1])"
   ]
  },
  {
   "cell_type": "markdown",
   "metadata": {},
   "source": [
    "# About Star( \\*, \\**) "
   ]
  },
  {
   "cell_type": "code",
   "execution_count": 7,
   "metadata": {},
   "outputs": [
    {
     "name": "stdout",
     "output_type": "stream",
     "text": [
      "===== * =====\n",
      "foo(1): \n",
      "1\n",
      "foo(1,2,3):\n",
      "1\n",
      "2\n",
      "3\n",
      "===== ** =====\n",
      "bar(name='one', age=27)\n",
      "age 27\n",
      "name one\n",
      "===== foo2(*l) =====\n",
      "foo2(*l)\n",
      "1 2\n"
     ]
    }
   ],
   "source": [
    "\n",
    "print('===== * =====')\n",
    "def foo(*args):\n",
    "    for a in args:\n",
    "        print a\n",
    "        \n",
    "print('foo(1): ' )\n",
    "foo(1)\n",
    "print('foo(1,2,3):' )\n",
    "foo(1,2,3)\n",
    "\n",
    "\n",
    "print('===== ** =====')\n",
    "def bar(**kwargs):\n",
    "    for a in kwargs:\n",
    "        print a, kwargs[a]         \n",
    "\n",
    "print('bar(name=\\'one\\', age=27)' )\n",
    "bar(name='one', age=27)\n",
    "\n",
    "print('===== foo2(*l) =====')\n",
    "def foo2(bar, lee):\n",
    "    print bar, lee\n",
    "    \n",
    "l = [1,2]\n",
    "\n",
    "\n",
    "\n",
    "print('foo2(*l)')\n",
    "foo2(*l)\n"
   ]
  },
  {
   "cell_type": "markdown",
   "metadata": {},
   "source": [
    "# [] * 2"
   ]
  },
  {
   "cell_type": "code",
   "execution_count": 11,
   "metadata": {},
   "outputs": [
    {
     "name": "stdout",
     "output_type": "stream",
     "text": [
      "[2, 4, 6, 2, 4, 6]\n"
     ]
    }
   ],
   "source": [
    "ary = [2,4,6]\n",
    "\n",
    "ary_mul_2 = ary * 2\n",
    "\n",
    "print (ary_mul_2)"
   ]
  }
 ],
 "metadata": {
  "kernelspec": {
   "display_name": "Python 2",
   "language": "python",
   "name": "python2"
  },
  "language_info": {
   "codemirror_mode": {
    "name": "ipython",
    "version": 2
   },
   "file_extension": ".py",
   "mimetype": "text/x-python",
   "name": "python",
   "nbconvert_exporter": "python",
   "pygments_lexer": "ipython2",
   "version": "2.7.12"
  }
 },
 "nbformat": 4,
 "nbformat_minor": 2
}
