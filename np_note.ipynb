{
 "cells": [
  {
   "cell_type": "code",
   "execution_count": 2,
   "metadata": {},
   "outputs": [
    {
     "name": "stdout",
     "output_type": "stream",
     "text": [
      "('epsilons.shape', (500000,))\n",
      "[ 1.         0.9999982  0.9999964 ...,  0.1000036  0.1000018  0.1      ]\n"
     ]
    }
   ],
   "source": [
    "import numpy as np\n",
    "\n",
    "\n",
    "\n",
    "\n",
    "epsilon_start=1.0\n",
    "epsilon_end=0.1\n",
    "epsilon_decay_steps=500000\n",
    "\n",
    "epsilons = np.linspace(epsilon_start, epsilon_end, epsilon_decay_steps)\n",
    "\n",
    "print('epsilons.shape',epsilons.shape)\n",
    "print(epsilons)"
   ]
  },
  {
   "cell_type": "markdown",
   "metadata": {},
   "source": [
    "ZIP\n",
    "========="
   ]
  },
  {
   "cell_type": "code",
   "execution_count": 4,
   "metadata": {},
   "outputs": [
    {
     "name": "stdout",
     "output_type": "stream",
     "text": [
      "[(1, 4), (2, 5), (3, 6)]\n",
      "[(1, 4), (2, 5), (3, 6)]\n",
      "[(1, 2, 3), (4, 5, 6)]\n"
     ]
    }
   ],
   "source": [
    "a = [1,2,3]\n",
    "b = [4,5,6]\n",
    "\n",
    "zipped = zip(a,b)\n",
    "\n",
    "print(zipped)\n",
    "\n",
    "\n",
    "print(zip(a,c))\n",
    "\n",
    "print(zip(*zipped))"
   ]
  },
  {
   "cell_type": "markdown",
   "metadata": {},
   "source": [
    "ZIP (二維矩陣變換（矩陣的行列互換） )    & 與 map() 的結合\n",
    "========"
   ]
  },
  {
   "cell_type": "code",
   "execution_count": 9,
   "metadata": {},
   "outputs": [
    {
     "name": "stdout",
     "output_type": "stream",
     "text": [
      "zip(*a)\n",
      "[(1, 4, 7), (2, 5, 8), (3, 6, 9)]\n",
      "\n",
      "map(list,zip(*a))\n",
      "[[1, 4, 7], [2, 5, 8], [3, 6, 9]]\n",
      "\n",
      "map(np.array, zip(*a))\n",
      "[array([1, 4, 7]), array([2, 5, 8]), array([3, 6, 9])]\n"
     ]
    }
   ],
   "source": [
    "a = [[1, 2, 3], [4, 5, 6], [7, 8, 9]]\n",
    "print('zip(*a)')\n",
    "print((zip(*a)) )\n",
    "print('')\n",
    "\n",
    "print('map(list,zip(*a))')\n",
    "print(map(list,zip(*a)) )\n",
    "print('')\n",
    "\n",
    "\n",
    "print('map(np.array, zip(*a))')\n",
    "print(map(np.array, zip(*a)))\n",
    "\n",
    "\n"
   ]
  },
  {
   "cell_type": "markdown",
   "metadata": {},
   "source": [
    "namedtuple\n",
    "=========="
   ]
  },
  {
   "cell_type": "code",
   "execution_count": 15,
   "metadata": {},
   "outputs": [
    {
     "name": "stdout",
     "output_type": "stream",
     "text": [
      "('Point.__doc__', 'Point(x, y)')\n",
      "('after Point(11, y=22) p[0] + p[1] =', 33)\n",
      "('x, y = p ', 'x = 11', 'y = 22')\n",
      "p.x + p.y = 33\n",
      "('d = p._asdict() =', OrderedDict([('x', 11), ('y', 22)]))\n",
      "(\"d['x']\", 11)\n",
      "('Point(**d) = ', Point(x=11, y=22))\n",
      "('p._replace(x=100) =', Point(x=100, y=22))\n"
     ]
    }
   ],
   "source": [
    "from collections import deque, namedtuple\n",
    "\n",
    "# Transition = namedtuple(\"Transition\", [\"state\", \"action\", \"reward\", \"next_state\", \"done\"])\n",
    "Point = namedtuple('Point', ['x', 'y'])\n",
    "print('Point.__doc__', Point.__doc__)                   # docstring for the new class\n",
    "\n",
    "p = Point(11, y=22)             # instantiate with positional args or keywords\n",
    "print('after Point(11, y=22) p[0] + p[1] =', p[0] + p[1])\n",
    "# print(p[0] + p[1])                     # indexable like a plain tuple\n",
    "\n",
    "x, y = p                        # unpack like a regular tuple\n",
    "print('x, y = p ','x = ' + str(x) , 'y = ' + str(y))\n",
    "\n",
    "\n",
    "print('p.x + p.y = ' + str(p.x + p.y) )                     # fields also accessible by name\n",
    "\n",
    "d = p._asdict()                 # convert to a dictionary\n",
    "print('d = p._asdict() =',  d)\n",
    "print('d[\\'x\\']', d['x'])\n",
    "\n",
    "print('Point(**d) = ' , Point(**d))                     # convert from a dictionary\n",
    "# Point(x=11, y=22)\n",
    "\n",
    "print('p._replace(x=100) =', p._replace(x=100) )               # _replace() is like str.replace() but targets named fields\n"
   ]
  },
  {
   "cell_type": "markdown",
   "metadata": {},
   "source": [
    "np.stack\n",
    "============"
   ]
  },
  {
   "cell_type": "code",
   "execution_count": 3,
   "metadata": {},
   "outputs": [
    {
     "name": "stdout",
     "output_type": "stream",
     "text": [
      "(10, 13, 4)\n",
      "('np.stack(arrays, axis=0).shape', (10, 13, 4))\n",
      "('np.stack(arrays, axis=1).shape', (13, 10, 4))\n",
      "('np.stack(arrays, axis=2).shape', (13, 4, 10))\n",
      "('np.stack(arrays, axis=-1).shape', (13, 4, 10))\n"
     ]
    }
   ],
   "source": [
    "import numpy as np\n",
    "\n",
    "arrays = [np.random.randn(13, 4) for _ in range(10)]\n",
    "# print(arrays)\n",
    "print(np.array( arrays).shape ) \n",
    "# print('arrays.shape', arrays.shape)\n",
    "print('np.stack(arrays, axis=0).shape',np.stack(arrays, axis=0).shape)\n",
    "print('np.stack(arrays, axis=1).shape',np.stack(arrays, axis=1).shape)\n",
    "print('np.stack(arrays, axis=2).shape',np.stack(arrays, axis=2).shape)\n",
    "\n",
    "print('np.stack(arrays, axis=-1).shape',np.stack(arrays, axis=-1).shape)"
   ]
  },
  {
   "cell_type": "code",
   "execution_count": 29,
   "metadata": {},
   "outputs": [
    {
     "name": "stdout",
     "output_type": "stream",
     "text": [
      "[array([-1.06846326,  0.11353627,  0.35983055]), array([-0.33752517, -0.35191301,  0.7613503 ]), array([ 0.20681952, -0.49268125, -0.39007595]), array([ 0.10873263, -0.0653531 ,  1.06006128]), array([-0.09082631, -0.60585293,  0.19136584])]\n",
      "[[[-1.06846326 -1.06846326 -1.06846326 -1.06846326]\n",
      "  [ 0.11353627  0.11353627  0.11353627  0.11353627]\n",
      "  [ 0.35983055  0.35983055  0.35983055  0.35983055]]\n",
      "\n",
      " [[-0.33752517 -0.33752517 -0.33752517 -0.33752517]\n",
      "  [-0.35191301 -0.35191301 -0.35191301 -0.35191301]\n",
      "  [ 0.7613503   0.7613503   0.7613503   0.7613503 ]]\n",
      "\n",
      " [[ 0.20681952  0.20681952  0.20681952  0.20681952]\n",
      "  [-0.49268125 -0.49268125 -0.49268125 -0.49268125]\n",
      "  [-0.39007595 -0.39007595 -0.39007595 -0.39007595]]\n",
      "\n",
      " [[ 0.10873263  0.10873263  0.10873263  0.10873263]\n",
      "  [-0.0653531  -0.0653531  -0.0653531  -0.0653531 ]\n",
      "  [ 1.06006128  1.06006128  1.06006128  1.06006128]]\n",
      "\n",
      " [[-0.09082631 -0.09082631 -0.09082631 -0.09082631]\n",
      "  [-0.60585293 -0.60585293 -0.60585293 -0.60585293]\n",
      "  [ 0.19136584  0.19136584  0.19136584  0.19136584]]]\n",
      "('state.shape', (5, 3, 4))\n",
      "\n",
      "state[:,:,1:]\n",
      "[[[-1.06846326 -1.06846326 -1.06846326]\n",
      "  [ 0.11353627  0.11353627  0.11353627]\n",
      "  [ 0.35983055  0.35983055  0.35983055]]\n",
      "\n",
      " [[-0.33752517 -0.33752517 -0.33752517]\n",
      "  [-0.35191301 -0.35191301 -0.35191301]\n",
      "  [ 0.7613503   0.7613503   0.7613503 ]]\n",
      "\n",
      " [[ 0.20681952  0.20681952  0.20681952]\n",
      "  [-0.49268125 -0.49268125 -0.49268125]\n",
      "  [-0.39007595 -0.39007595 -0.39007595]]\n",
      "\n",
      " [[ 0.10873263  0.10873263  0.10873263]\n",
      "  [-0.0653531  -0.0653531  -0.0653531 ]\n",
      "  [ 1.06006128  1.06006128  1.06006128]]\n",
      "\n",
      " [[-0.09082631 -0.09082631 -0.09082631]\n",
      "  [-0.60585293 -0.60585293 -0.60585293]\n",
      "  [ 0.19136584  0.19136584  0.19136584]]]\n"
     ]
    }
   ],
   "source": [
    "arrays = [np.random.randn(3) for _ in range(5)]  # (5,3)\n",
    "print(arrays)\n",
    "# print('arrays.shape',arrays.shape)\n",
    "\n",
    "state = np.stack([arrays] * 4, axis=2)  # copy same \n",
    "\n",
    "print(state)\n",
    "print('state.shape',state.shape)\n",
    "\n",
    "\n",
    "print('')\n",
    "print('state[:,:,1:]')\n",
    "print(state[:,:,1:])"
   ]
  },
  {
   "cell_type": "code",
   "execution_count": 39,
   "metadata": {},
   "outputs": [
    {
     "name": "stdout",
     "output_type": "stream",
     "text": [
      "('next_state.shape', (2, 2))\n",
      "expand_2\n",
      "[[[1]\n",
      "  [2]]\n",
      "\n",
      " [[3]\n",
      "  [4]]]\n",
      "('expand_2.shape', (2, 2, 1))\n",
      "expand_1\n",
      "[[[1 2]]\n",
      "\n",
      " [[3 4]]]\n",
      "('expand_1.shape', (2, 1, 2))\n"
     ]
    }
   ],
   "source": [
    "next_state = np.array([ [1,2],\n",
    "               [3,4]\n",
    "                  ] )\n",
    "print('next_state.shape',next_state.shape)\n",
    "expand_2 = np.expand_dims(next_state, 2)   \n",
    "print('expand_2')\n",
    "print(expand_2)\n",
    "print('expand_2.shape',expand_2.shape)\n",
    "\n",
    "expand_1 = np.expand_dims(next_state, 1)   \n",
    "print('expand_1')\n",
    "print(expand_1)\n",
    "print('expand_1.shape',expand_1.shape)"
   ]
  },
  {
   "cell_type": "markdown",
   "metadata": {},
   "source": [
    "next_state = np.append(state[:,:,1:], np.expand_dims(next_state, 2), axis=2)\n",
    "======"
   ]
  },
  {
   "cell_type": "code",
   "execution_count": 47,
   "metadata": {},
   "outputs": [
    {
     "name": "stdout",
     "output_type": "stream",
     "text": [
      "('ORI state', [[3, 3], [3, 3]])\n",
      "np.stack([state] * 4, axis=2) \n",
      "[[[3 3 3 3]\n",
      "  [3 3 3 3]]\n",
      "\n",
      " [[3 3 3 3]\n",
      "  [3 3 3 3]]]\n",
      "('state.shape', (2, 2, 4))\n",
      "next_state\n",
      "[[[3 3 3 1]\n",
      "  [3 3 3 2]]\n",
      "\n",
      " [[3 3 3 3]\n",
      "  [3 3 3 4]]]\n"
     ]
    }
   ],
   "source": [
    "state = [ [3,3] for _ in range(2)]  # (5,3)\n",
    "print('ORI state', state)\n",
    "\n",
    "state = np.stack([state] * 4, axis=2)  # copy same \n",
    "print('np.stack([state] * 4, axis=2) ')\n",
    "print(state)\n",
    "print('state.shape',state.shape)\n",
    "\n",
    "# try to know next_state = np.append(state[:,:,1:], np.expand_dims(next_state, 2), axis=2)\n",
    "next_state = np.array([ [1,2],\n",
    "               [3,4]\n",
    "                  ] )\n",
    "next_state = np.append(state[:,:,1:], np.expand_dims(next_state, 2), axis=2)\n",
    "print('next_state')\n",
    "print(next_state)"
   ]
  },
  {
   "cell_type": "code",
   "execution_count": 53,
   "metadata": {},
   "outputs": [
    {
     "name": "stdout",
     "output_type": "stream",
     "text": [
      "arrays\n",
      "[array([ 0.10332675, -0.39308653,  0.52306322]), array([ 1.41298933, -1.12771569, -0.36654625]), array([ 1.44378993,  1.15437619,  0.60048043]), array([ 1.47666326, -1.26840043, -0.68958152]), array([-0.28919945,  0.96959523,  0.4999677 ])]\n",
      "samples\n",
      "[array([ 0.10332675, -0.39308653,  0.52306322]), array([ 1.47666326, -1.26840043, -0.68958152])]\n"
     ]
    }
   ],
   "source": [
    "import random\n",
    "\n",
    "arrays = [np.random.randn(3) for _ in range(5)]  # (5,3)\n",
    "print('arrays')\n",
    "print(arrays)\n",
    "\n",
    "samples = random.sample(arrays, 2)\n",
    "print('samples')\n",
    "print(samples)"
   ]
  },
  {
   "cell_type": "markdown",
   "metadata": {},
   "source": [
    "# np.zero_like()\n",
    "\n",
    "## Example 1\n",
    "\n",
    "```\n",
    ">>> x = np.arange(6)\n",
    ">>> x = x.reshape((2, 3))\n",
    ">>> x\n",
    "\n",
    "array([[0, 1, 2],\n",
    "       [3, 4, 5]])\n",
    "       \n",
    ">>> np.zeros_like(x)\n",
    "\n",
    "array([[0, 0, 0],\n",
    "       [0, 0, 0]])\n",
    "```\n",
    "## Example 2:\n",
    "```\n",
    ">>> y = np.arange(3, dtype=np.float)\n",
    ">>> y\n",
    "array([ 0.,  1.,  2.])\n",
    "\n",
    ">>> np.zeros_like(y)\n",
    "\n",
    "array([ 0.,  0.,  0.])\n",
    "```"
   ]
  },
  {
   "cell_type": "markdown",
   "metadata": {},
   "source": [
    "\n",
    "# xrange()\n",
    "所以xrange跟range最大的差別就是：\n",
    "1. range 是全部產生完後，return一個 list 回來使用。\n",
    "2. xrange 是一次產生一個值，並return一個值回來，所以xrange只適用於loop。\n",
    "如果以C/C++的觀點來看 range / xrange 的實作的話，來看效能的話(不考慮Python的優化)，一般的 for loop 應該 xrange 是效能上最好的選擇。因為 range 多了 allocate array 跟 initialize 的動作。\n",
    "\n",
    "refer: http://falldog7.blogspot.tw/2009/07/python-range-xrange.html"
   ]
  },
  {
   "cell_type": "markdown",
   "metadata": {},
   "source": [
    "# np.prod() \n",
    "## return the product of array elements over a given axis.\n",
    "\n",
    "Refer: https://docs.scipy.org/doc/numpy-1.13.0/reference/generated/numpy.prod.html\n",
    "\n",
    "```\n",
    ">>> np.prod([[1.,2.],[3.,4.]])\n",
    "24.0\n",
    "\n",
    ">>> np.prod([[1.,2.],[3.,4.]], axis=1)\n",
    "array([  2.,  12.])\n",
    "\n",
    "```"
   ]
  }
 ],
 "metadata": {
  "kernelspec": {
   "display_name": "Python 2",
   "language": "python",
   "name": "python2"
  },
  "language_info": {
   "codemirror_mode": {
    "name": "ipython",
    "version": 2
   },
   "file_extension": ".py",
   "mimetype": "text/x-python",
   "name": "python",
   "nbconvert_exporter": "python",
   "pygments_lexer": "ipython2",
   "version": "2.7.12"
  }
 },
 "nbformat": 4,
 "nbformat_minor": 2
}
