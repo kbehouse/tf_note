{
 "cells": [
  {
   "cell_type": "markdown",
   "metadata": {},
   "source": [
    "# ary[::-1]"
   ]
  },
  {
   "cell_type": "code",
   "execution_count": 3,
   "metadata": {},
   "outputs": [
    {
     "name": "stdout",
     "output_type": "stream",
     "text": [
      "ary_1d[::-1]\n",
      "[4, 3, 2, 1]\n",
      "ary_1d[:-1]\n",
      "[1, 2, 3]\n",
      "ary_1d[1:2]\n",
      "[2]\n",
      "ary_1d[:2]\n",
      "[1, 2]\n",
      "\n",
      "ary_2d[::-1]\n",
      "[[4, 14, 52, 14], [3, 72, 2, 490], [2, 6, 11, 4], [1, 5, 7, 1]]\n",
      "ary_2d[:-1]\n",
      "[[1, 5, 7, 1], [2, 6, 11, 4], [3, 72, 2, 490]]\n"
     ]
    }
   ],
   "source": [
    "ary_1d= [ 1,2,3,4]\n",
    "print('ary_1d[::-1]')\n",
    "print(ary_1d[::-1])\n",
    "\n",
    "print('ary_1d[:-1]')\n",
    "print(ary_1d[:-1])\n",
    "\n",
    "print('ary_1d[1:2]')\n",
    "print(ary_1d[1:2])\n",
    "\n",
    "\n",
    "print('ary_1d[:2]')\n",
    "print(ary_1d[:2])\n",
    "\n",
    "print('')\n",
    "\n",
    "\n",
    "ary_2d= [ [1,5,7,1],\n",
    "        [2,6,11,4],\n",
    "        [3,72,2,490],\n",
    "        [4, 14,52, 14]\n",
    "      ]\n",
    "print('ary_2d[::-1]')\n",
    "print(ary_2d[::-1])\n",
    "\n",
    "print('ary_2d[:-1]')\n",
    "print(ary_2d[:-1])"
   ]
  },
  {
   "cell_type": "markdown",
   "metadata": {},
   "source": [
    "# About Star( \\*, \\**) "
   ]
  },
  {
   "cell_type": "code",
   "execution_count": 7,
   "metadata": {},
   "outputs": [
    {
     "name": "stdout",
     "output_type": "stream",
     "text": [
      "===== * =====\n",
      "foo(1): \n",
      "1\n",
      "foo(1,2,3):\n",
      "1\n",
      "2\n",
      "3\n",
      "===== ** =====\n",
      "bar(name='one', age=27)\n",
      "age 27\n",
      "name one\n",
      "===== foo2(*l) =====\n",
      "foo2(*l)\n",
      "1 2\n"
     ]
    }
   ],
   "source": [
    "\n",
    "print('===== * =====')\n",
    "def foo(*args):\n",
    "    for a in args:\n",
    "        print a\n",
    "        \n",
    "print('foo(1): ' )\n",
    "foo(1)\n",
    "print('foo(1,2,3):' )\n",
    "foo(1,2,3)\n",
    "\n",
    "\n",
    "print('===== ** =====')\n",
    "def bar(**kwargs):\n",
    "    for a in kwargs:\n",
    "        print a, kwargs[a]         \n",
    "\n",
    "print('bar(name=\\'one\\', age=27)' )\n",
    "bar(name='one', age=27)\n",
    "\n",
    "print('===== foo2(*l) =====')\n",
    "def foo2(bar, lee):\n",
    "    print bar, lee\n",
    "    \n",
    "l = [1,2]\n",
    "\n",
    "\n",
    "\n",
    "print('foo2(*l)')\n",
    "foo2(*l)\n"
   ]
  },
  {
   "cell_type": "markdown",
   "metadata": {},
   "source": [
    "# [] * 2"
   ]
  },
  {
   "cell_type": "code",
   "execution_count": 11,
   "metadata": {},
   "outputs": [
    {
     "name": "stdout",
     "output_type": "stream",
     "text": [
      "[2, 4, 6, 2, 4, 6]\n"
     ]
    }
   ],
   "source": [
    "ary = [2,4,6]\n",
    "\n",
    "ary_mul_2 = ary * 2\n",
    "\n",
    "print (ary_mul_2)\n",
    "\n",
    "\n"
   ]
  },
  {
   "cell_type": "markdown",
   "metadata": {},
   "source": [
    "# [[] for i in range(5)]"
   ]
  },
  {
   "cell_type": "code",
   "execution_count": 2,
   "metadata": {},
   "outputs": [
    {
     "name": "stdout",
     "output_type": "stream",
     "text": [
      "[[], [], [], [], []]\n",
      "[0, 0, 0, 0, 0]\n"
     ]
    }
   ],
   "source": [
    "ary = [[] for i in range(5)]   # clean ary\n",
    "print ary\n",
    "\n",
    "ary_2 = [0 for i in range(5)]   # clean ary\n",
    "print ary_2"
   ]
  },
  {
   "cell_type": "markdown",
   "metadata": {},
   "source": [
    "# tuple Concatenate"
   ]
  },
  {
   "cell_type": "code",
   "execution_count": 1,
   "metadata": {},
   "outputs": [
    {
     "name": "stdout",
     "output_type": "stream",
     "text": [
      "<type 'tuple'>\n",
      "(1, 'b', 345)\n",
      "<type 'tuple'>\n",
      "(1, 'b', 345)\n"
     ]
    }
   ],
   "source": [
    "from types import *\n",
    "\n",
    "\n",
    "a = 1 \n",
    "b = 'b'\n",
    "c = 345\n",
    "\n",
    "tup = (a,b,c)\n",
    "tup_1_0 = (b,c)\n",
    "\n",
    "\n",
    "tup_1 = tuple([a]) + tup_1_0\n",
    "\n",
    "print type(tup)\n",
    "print tup\n",
    "\n",
    "print type(tup_1)\n",
    "print tup_1"
   ]
  },
  {
   "cell_type": "markdown",
   "metadata": {},
   "source": [
    "# deque test"
   ]
  },
  {
   "cell_type": "code",
   "execution_count": 5,
   "metadata": {},
   "outputs": [
    {
     "name": "stdout",
     "output_type": "stream",
     "text": [
      "deque([0, 4, 6], maxlen=4)\n",
      "[0, 4, 6]\n"
     ]
    }
   ],
   "source": [
    "from collections import deque\n",
    "import numpy as np\n",
    "action_deque = deque(maxlen=4)\n",
    "\n",
    "\n",
    "action_deque.append(0)\n",
    "action_deque.append(4)\n",
    "action_deque.append(6)\n",
    "# action_deque.append(3)\n",
    "\n",
    "\n",
    "print(action_deque)\n",
    "\n",
    "d_ary =[d for d in action_deque]\n",
    "print(d_ary)\n",
    "# state = np.concatenate([d for d in action_deque])\n",
    "\n",
    "# print(state)"
   ]
  },
  {
   "cell_type": "markdown",
   "metadata": {},
   "source": [
    "# t_arms[-2:]"
   ]
  },
  {
   "cell_type": "code",
   "execution_count": 2,
   "metadata": {},
   "outputs": [
    {
     "name": "stdout",
     "output_type": "stream",
     "text": [
      "[201.90378134, -98.25751273]\n"
     ]
    }
   ],
   "source": [
    "t_arms=[ 101.92594524,  -96.15221263,  201.90378134,  -98.25751273]\n",
    "print(t_arms[-2:])\n"
   ]
  },
  {
   "cell_type": "markdown",
   "metadata": {},
   "source": [
    "# Test Class"
   ]
  },
  {
   "cell_type": "code",
   "execution_count": 2,
   "metadata": {},
   "outputs": [],
   "source": [
    "class SRA:\n",
    "    def __init__():\n",
    "        self.s = None  # state\n",
    "        self.r = 0     # reward\n",
    "        self.a = 0     #actino"
   ]
  },
  {
   "cell_type": "code",
   "execution_count": 7,
   "metadata": {},
   "outputs": [
    {
     "name": "stdout",
     "output_type": "stream",
     "text": [
      "[[2, 4, 6], [2, 4, 6]]\n",
      "(2, 3)\n",
      "a_4   shape = (4,) \n",
      "a_4_1 shape = (4, 1) \n"
     ]
    }
   ],
   "source": [
    "import numpy as np\n",
    "a = [ [2, 4, 6]\n",
    "     ,[2, 4, 6]]\n",
    "print a \n",
    "\n",
    "print(np.shape(a))\n",
    "\n",
    "\n",
    "\n",
    "a_4   = [1,2,3,4]\n",
    "a_4_1 = [ [1], [2], [3], [4]]\n",
    "print('a_4   shape = {} '.format(np.shape(a_4)) )\n",
    "print('a_4_1 shape = {} '.format(np.shape(a_4_1)) )\n",
    "\n",
    "\n"
   ]
  }
 ],
 "metadata": {
  "kernelspec": {
   "display_name": "Python 2",
   "language": "python",
   "name": "python2"
  },
  "language_info": {
   "codemirror_mode": {
    "name": "ipython",
    "version": 2
   },
   "file_extension": ".py",
   "mimetype": "text/x-python",
   "name": "python",
   "nbconvert_exporter": "python",
   "pygments_lexer": "ipython2",
   "version": "2.7.12"
  }
 },
 "nbformat": 4,
 "nbformat_minor": 2
}
